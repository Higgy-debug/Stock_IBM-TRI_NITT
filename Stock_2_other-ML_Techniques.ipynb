{
  "nbformat": 4,
  "nbformat_minor": 0,
  "metadata": {
    "colab": {
      "name": "Stock_2 - Ml Techniques:",
      "provenance": []
    },
    "kernelspec": {
      "name": "python3",
      "display_name": "Python 3"
    },
    "language_info": {
      "name": "python"
    }
  },
  "cells": [
    {
      "cell_type": "code",
      "execution_count": 32,
      "metadata": {
        "colab": {
          "base_uri": "https://localhost:8080/"
        },
        "id": "JGk6MhWcInON",
        "outputId": "22ce1be0-2423-4116-b901-cb94b1b6010a"
      },
      "outputs": [
        {
          "output_type": "stream",
          "name": "stdout",
          "text": [
            "Drive already mounted at /content/drive; to attempt to forcibly remount, call drive.mount(\"/content/drive\", force_remount=True).\n"
          ]
        }
      ],
      "source": [
        "from google.colab import drive\n",
        "drive.mount('/content/drive')"
      ]
    },
    {
      "cell_type": "code",
      "source": [
        "import numpy as np\n",
        "import pandas as pd\n",
        "import seaborn as sns\n",
        "import matplotlib.pyplot as plt\n",
        "import warnings\n",
        "warnings.filterwarnings('ignore')"
      ],
      "metadata": {
        "id": "Mub1NtWlIwLs"
      },
      "execution_count": 33,
      "outputs": []
    },
    {
      "cell_type": "code",
      "source": [
        "df_ibm = pd.read_csv('/content/drive/MyDrive/daily_IBM.csv')\n",
        "df_ibm"
      ],
      "metadata": {
        "colab": {
          "base_uri": "https://localhost:8080/",
          "height": 423
        },
        "id": "mBij3Y0OI2pZ",
        "outputId": "8abafe2f-2e62-4587-c89b-befc4b612695"
      },
      "execution_count": 34,
      "outputs": [
        {
          "output_type": "execute_result",
          "data": {
            "text/html": [
              "\n",
              "  <div id=\"df-c62aaa64-97d2-4242-926e-d45bed5a9551\">\n",
              "    <div class=\"colab-df-container\">\n",
              "      <div>\n",
              "<style scoped>\n",
              "    .dataframe tbody tr th:only-of-type {\n",
              "        vertical-align: middle;\n",
              "    }\n",
              "\n",
              "    .dataframe tbody tr th {\n",
              "        vertical-align: top;\n",
              "    }\n",
              "\n",
              "    .dataframe thead th {\n",
              "        text-align: right;\n",
              "    }\n",
              "</style>\n",
              "<table border=\"1\" class=\"dataframe\">\n",
              "  <thead>\n",
              "    <tr style=\"text-align: right;\">\n",
              "      <th></th>\n",
              "      <th>timestamp</th>\n",
              "      <th>open</th>\n",
              "      <th>high</th>\n",
              "      <th>low</th>\n",
              "      <th>close</th>\n",
              "      <th>volume</th>\n",
              "    </tr>\n",
              "  </thead>\n",
              "  <tbody>\n",
              "    <tr>\n",
              "      <th>0</th>\n",
              "      <td>2022-01-28</td>\n",
              "      <td>133.19</td>\n",
              "      <td>134.5300</td>\n",
              "      <td>131.790</td>\n",
              "      <td>134.50</td>\n",
              "      <td>5471497</td>\n",
              "    </tr>\n",
              "    <tr>\n",
              "      <th>1</th>\n",
              "      <td>2022-01-27</td>\n",
              "      <td>133.66</td>\n",
              "      <td>134.7500</td>\n",
              "      <td>132.080</td>\n",
              "      <td>132.52</td>\n",
              "      <td>5499566</td>\n",
              "    </tr>\n",
              "    <tr>\n",
              "      <th>2</th>\n",
              "      <td>2022-01-26</td>\n",
              "      <td>136.47</td>\n",
              "      <td>137.0700</td>\n",
              "      <td>133.130</td>\n",
              "      <td>134.26</td>\n",
              "      <td>8335992</td>\n",
              "    </tr>\n",
              "    <tr>\n",
              "      <th>3</th>\n",
              "      <td>2022-01-25</td>\n",
              "      <td>129.14</td>\n",
              "      <td>137.3361</td>\n",
              "      <td>128.300</td>\n",
              "      <td>136.10</td>\n",
              "      <td>19715698</td>\n",
              "    </tr>\n",
              "    <tr>\n",
              "      <th>4</th>\n",
              "      <td>2022-01-24</td>\n",
              "      <td>127.99</td>\n",
              "      <td>129.1500</td>\n",
              "      <td>124.193</td>\n",
              "      <td>128.82</td>\n",
              "      <td>13777648</td>\n",
              "    </tr>\n",
              "    <tr>\n",
              "      <th>...</th>\n",
              "      <td>...</td>\n",
              "      <td>...</td>\n",
              "      <td>...</td>\n",
              "      <td>...</td>\n",
              "      <td>...</td>\n",
              "      <td>...</td>\n",
              "    </tr>\n",
              "    <tr>\n",
              "      <th>5593</th>\n",
              "      <td>1999-11-05</td>\n",
              "      <td>92.75</td>\n",
              "      <td>92.9400</td>\n",
              "      <td>90.190</td>\n",
              "      <td>90.25</td>\n",
              "      <td>13737600</td>\n",
              "    </tr>\n",
              "    <tr>\n",
              "      <th>5594</th>\n",
              "      <td>1999-11-04</td>\n",
              "      <td>94.44</td>\n",
              "      <td>94.4400</td>\n",
              "      <td>90.000</td>\n",
              "      <td>91.56</td>\n",
              "      <td>16697600</td>\n",
              "    </tr>\n",
              "    <tr>\n",
              "      <th>5595</th>\n",
              "      <td>1999-11-03</td>\n",
              "      <td>95.87</td>\n",
              "      <td>95.9400</td>\n",
              "      <td>93.500</td>\n",
              "      <td>94.37</td>\n",
              "      <td>10369100</td>\n",
              "    </tr>\n",
              "    <tr>\n",
              "      <th>5596</th>\n",
              "      <td>1999-11-02</td>\n",
              "      <td>96.75</td>\n",
              "      <td>96.8100</td>\n",
              "      <td>93.690</td>\n",
              "      <td>94.81</td>\n",
              "      <td>11105400</td>\n",
              "    </tr>\n",
              "    <tr>\n",
              "      <th>5597</th>\n",
              "      <td>1999-11-01</td>\n",
              "      <td>98.50</td>\n",
              "      <td>98.8100</td>\n",
              "      <td>96.370</td>\n",
              "      <td>96.75</td>\n",
              "      <td>9551800</td>\n",
              "    </tr>\n",
              "  </tbody>\n",
              "</table>\n",
              "<p>5598 rows × 6 columns</p>\n",
              "</div>\n",
              "      <button class=\"colab-df-convert\" onclick=\"convertToInteractive('df-c62aaa64-97d2-4242-926e-d45bed5a9551')\"\n",
              "              title=\"Convert this dataframe to an interactive table.\"\n",
              "              style=\"display:none;\">\n",
              "        \n",
              "  <svg xmlns=\"http://www.w3.org/2000/svg\" height=\"24px\"viewBox=\"0 0 24 24\"\n",
              "       width=\"24px\">\n",
              "    <path d=\"M0 0h24v24H0V0z\" fill=\"none\"/>\n",
              "    <path d=\"M18.56 5.44l.94 2.06.94-2.06 2.06-.94-2.06-.94-.94-2.06-.94 2.06-2.06.94zm-11 1L8.5 8.5l.94-2.06 2.06-.94-2.06-.94L8.5 2.5l-.94 2.06-2.06.94zm10 10l.94 2.06.94-2.06 2.06-.94-2.06-.94-.94-2.06-.94 2.06-2.06.94z\"/><path d=\"M17.41 7.96l-1.37-1.37c-.4-.4-.92-.59-1.43-.59-.52 0-1.04.2-1.43.59L10.3 9.45l-7.72 7.72c-.78.78-.78 2.05 0 2.83L4 21.41c.39.39.9.59 1.41.59.51 0 1.02-.2 1.41-.59l7.78-7.78 2.81-2.81c.8-.78.8-2.07 0-2.86zM5.41 20L4 18.59l7.72-7.72 1.47 1.35L5.41 20z\"/>\n",
              "  </svg>\n",
              "      </button>\n",
              "      \n",
              "  <style>\n",
              "    .colab-df-container {\n",
              "      display:flex;\n",
              "      flex-wrap:wrap;\n",
              "      gap: 12px;\n",
              "    }\n",
              "\n",
              "    .colab-df-convert {\n",
              "      background-color: #E8F0FE;\n",
              "      border: none;\n",
              "      border-radius: 50%;\n",
              "      cursor: pointer;\n",
              "      display: none;\n",
              "      fill: #1967D2;\n",
              "      height: 32px;\n",
              "      padding: 0 0 0 0;\n",
              "      width: 32px;\n",
              "    }\n",
              "\n",
              "    .colab-df-convert:hover {\n",
              "      background-color: #E2EBFA;\n",
              "      box-shadow: 0px 1px 2px rgba(60, 64, 67, 0.3), 0px 1px 3px 1px rgba(60, 64, 67, 0.15);\n",
              "      fill: #174EA6;\n",
              "    }\n",
              "\n",
              "    [theme=dark] .colab-df-convert {\n",
              "      background-color: #3B4455;\n",
              "      fill: #D2E3FC;\n",
              "    }\n",
              "\n",
              "    [theme=dark] .colab-df-convert:hover {\n",
              "      background-color: #434B5C;\n",
              "      box-shadow: 0px 1px 3px 1px rgba(0, 0, 0, 0.15);\n",
              "      filter: drop-shadow(0px 1px 2px rgba(0, 0, 0, 0.3));\n",
              "      fill: #FFFFFF;\n",
              "    }\n",
              "  </style>\n",
              "\n",
              "      <script>\n",
              "        const buttonEl =\n",
              "          document.querySelector('#df-c62aaa64-97d2-4242-926e-d45bed5a9551 button.colab-df-convert');\n",
              "        buttonEl.style.display =\n",
              "          google.colab.kernel.accessAllowed ? 'block' : 'none';\n",
              "\n",
              "        async function convertToInteractive(key) {\n",
              "          const element = document.querySelector('#df-c62aaa64-97d2-4242-926e-d45bed5a9551');\n",
              "          const dataTable =\n",
              "            await google.colab.kernel.invokeFunction('convertToInteractive',\n",
              "                                                     [key], {});\n",
              "          if (!dataTable) return;\n",
              "\n",
              "          const docLinkHtml = 'Like what you see? Visit the ' +\n",
              "            '<a target=\"_blank\" href=https://colab.research.google.com/notebooks/data_table.ipynb>data table notebook</a>'\n",
              "            + ' to learn more about interactive tables.';\n",
              "          element.innerHTML = '';\n",
              "          dataTable['output_type'] = 'display_data';\n",
              "          await google.colab.output.renderOutput(dataTable, element);\n",
              "          const docLink = document.createElement('div');\n",
              "          docLink.innerHTML = docLinkHtml;\n",
              "          element.appendChild(docLink);\n",
              "        }\n",
              "      </script>\n",
              "    </div>\n",
              "  </div>\n",
              "  "
            ],
            "text/plain": [
              "       timestamp    open      high      low   close    volume\n",
              "0     2022-01-28  133.19  134.5300  131.790  134.50   5471497\n",
              "1     2022-01-27  133.66  134.7500  132.080  132.52   5499566\n",
              "2     2022-01-26  136.47  137.0700  133.130  134.26   8335992\n",
              "3     2022-01-25  129.14  137.3361  128.300  136.10  19715698\n",
              "4     2022-01-24  127.99  129.1500  124.193  128.82  13777648\n",
              "...          ...     ...       ...      ...     ...       ...\n",
              "5593  1999-11-05   92.75   92.9400   90.190   90.25  13737600\n",
              "5594  1999-11-04   94.44   94.4400   90.000   91.56  16697600\n",
              "5595  1999-11-03   95.87   95.9400   93.500   94.37  10369100\n",
              "5596  1999-11-02   96.75   96.8100   93.690   94.81  11105400\n",
              "5597  1999-11-01   98.50   98.8100   96.370   96.75   9551800\n",
              "\n",
              "[5598 rows x 6 columns]"
            ]
          },
          "metadata": {},
          "execution_count": 34
        }
      ]
    },
    {
      "cell_type": "markdown",
      "source": [
        "**Reverse the order of the dataframe (because of the timestamp is in reversed order)**"
      ],
      "metadata": {
        "id": "WMaRlvkMJVpd"
      }
    },
    {
      "cell_type": "code",
      "source": [
        "df1_ibm = df_ibm.iloc[::-1]\n",
        "df1_ibm"
      ],
      "metadata": {
        "colab": {
          "base_uri": "https://localhost:8080/",
          "height": 423
        },
        "id": "eP2PciLHI7I5",
        "outputId": "b4d1b47d-d202-4524-e9cb-ca35a8e7ce86"
      },
      "execution_count": 35,
      "outputs": [
        {
          "output_type": "execute_result",
          "data": {
            "text/html": [
              "\n",
              "  <div id=\"df-ab5f9e3c-f6e4-4384-8367-f0bd568e7561\">\n",
              "    <div class=\"colab-df-container\">\n",
              "      <div>\n",
              "<style scoped>\n",
              "    .dataframe tbody tr th:only-of-type {\n",
              "        vertical-align: middle;\n",
              "    }\n",
              "\n",
              "    .dataframe tbody tr th {\n",
              "        vertical-align: top;\n",
              "    }\n",
              "\n",
              "    .dataframe thead th {\n",
              "        text-align: right;\n",
              "    }\n",
              "</style>\n",
              "<table border=\"1\" class=\"dataframe\">\n",
              "  <thead>\n",
              "    <tr style=\"text-align: right;\">\n",
              "      <th></th>\n",
              "      <th>timestamp</th>\n",
              "      <th>open</th>\n",
              "      <th>high</th>\n",
              "      <th>low</th>\n",
              "      <th>close</th>\n",
              "      <th>volume</th>\n",
              "    </tr>\n",
              "  </thead>\n",
              "  <tbody>\n",
              "    <tr>\n",
              "      <th>5597</th>\n",
              "      <td>1999-11-01</td>\n",
              "      <td>98.50</td>\n",
              "      <td>98.8100</td>\n",
              "      <td>96.370</td>\n",
              "      <td>96.75</td>\n",
              "      <td>9551800</td>\n",
              "    </tr>\n",
              "    <tr>\n",
              "      <th>5596</th>\n",
              "      <td>1999-11-02</td>\n",
              "      <td>96.75</td>\n",
              "      <td>96.8100</td>\n",
              "      <td>93.690</td>\n",
              "      <td>94.81</td>\n",
              "      <td>11105400</td>\n",
              "    </tr>\n",
              "    <tr>\n",
              "      <th>5595</th>\n",
              "      <td>1999-11-03</td>\n",
              "      <td>95.87</td>\n",
              "      <td>95.9400</td>\n",
              "      <td>93.500</td>\n",
              "      <td>94.37</td>\n",
              "      <td>10369100</td>\n",
              "    </tr>\n",
              "    <tr>\n",
              "      <th>5594</th>\n",
              "      <td>1999-11-04</td>\n",
              "      <td>94.44</td>\n",
              "      <td>94.4400</td>\n",
              "      <td>90.000</td>\n",
              "      <td>91.56</td>\n",
              "      <td>16697600</td>\n",
              "    </tr>\n",
              "    <tr>\n",
              "      <th>5593</th>\n",
              "      <td>1999-11-05</td>\n",
              "      <td>92.75</td>\n",
              "      <td>92.9400</td>\n",
              "      <td>90.190</td>\n",
              "      <td>90.25</td>\n",
              "      <td>13737600</td>\n",
              "    </tr>\n",
              "    <tr>\n",
              "      <th>...</th>\n",
              "      <td>...</td>\n",
              "      <td>...</td>\n",
              "      <td>...</td>\n",
              "      <td>...</td>\n",
              "      <td>...</td>\n",
              "      <td>...</td>\n",
              "    </tr>\n",
              "    <tr>\n",
              "      <th>4</th>\n",
              "      <td>2022-01-24</td>\n",
              "      <td>127.99</td>\n",
              "      <td>129.1500</td>\n",
              "      <td>124.193</td>\n",
              "      <td>128.82</td>\n",
              "      <td>13777648</td>\n",
              "    </tr>\n",
              "    <tr>\n",
              "      <th>3</th>\n",
              "      <td>2022-01-25</td>\n",
              "      <td>129.14</td>\n",
              "      <td>137.3361</td>\n",
              "      <td>128.300</td>\n",
              "      <td>136.10</td>\n",
              "      <td>19715698</td>\n",
              "    </tr>\n",
              "    <tr>\n",
              "      <th>2</th>\n",
              "      <td>2022-01-26</td>\n",
              "      <td>136.47</td>\n",
              "      <td>137.0700</td>\n",
              "      <td>133.130</td>\n",
              "      <td>134.26</td>\n",
              "      <td>8335992</td>\n",
              "    </tr>\n",
              "    <tr>\n",
              "      <th>1</th>\n",
              "      <td>2022-01-27</td>\n",
              "      <td>133.66</td>\n",
              "      <td>134.7500</td>\n",
              "      <td>132.080</td>\n",
              "      <td>132.52</td>\n",
              "      <td>5499566</td>\n",
              "    </tr>\n",
              "    <tr>\n",
              "      <th>0</th>\n",
              "      <td>2022-01-28</td>\n",
              "      <td>133.19</td>\n",
              "      <td>134.5300</td>\n",
              "      <td>131.790</td>\n",
              "      <td>134.50</td>\n",
              "      <td>5471497</td>\n",
              "    </tr>\n",
              "  </tbody>\n",
              "</table>\n",
              "<p>5598 rows × 6 columns</p>\n",
              "</div>\n",
              "      <button class=\"colab-df-convert\" onclick=\"convertToInteractive('df-ab5f9e3c-f6e4-4384-8367-f0bd568e7561')\"\n",
              "              title=\"Convert this dataframe to an interactive table.\"\n",
              "              style=\"display:none;\">\n",
              "        \n",
              "  <svg xmlns=\"http://www.w3.org/2000/svg\" height=\"24px\"viewBox=\"0 0 24 24\"\n",
              "       width=\"24px\">\n",
              "    <path d=\"M0 0h24v24H0V0z\" fill=\"none\"/>\n",
              "    <path d=\"M18.56 5.44l.94 2.06.94-2.06 2.06-.94-2.06-.94-.94-2.06-.94 2.06-2.06.94zm-11 1L8.5 8.5l.94-2.06 2.06-.94-2.06-.94L8.5 2.5l-.94 2.06-2.06.94zm10 10l.94 2.06.94-2.06 2.06-.94-2.06-.94-.94-2.06-.94 2.06-2.06.94z\"/><path d=\"M17.41 7.96l-1.37-1.37c-.4-.4-.92-.59-1.43-.59-.52 0-1.04.2-1.43.59L10.3 9.45l-7.72 7.72c-.78.78-.78 2.05 0 2.83L4 21.41c.39.39.9.59 1.41.59.51 0 1.02-.2 1.41-.59l7.78-7.78 2.81-2.81c.8-.78.8-2.07 0-2.86zM5.41 20L4 18.59l7.72-7.72 1.47 1.35L5.41 20z\"/>\n",
              "  </svg>\n",
              "      </button>\n",
              "      \n",
              "  <style>\n",
              "    .colab-df-container {\n",
              "      display:flex;\n",
              "      flex-wrap:wrap;\n",
              "      gap: 12px;\n",
              "    }\n",
              "\n",
              "    .colab-df-convert {\n",
              "      background-color: #E8F0FE;\n",
              "      border: none;\n",
              "      border-radius: 50%;\n",
              "      cursor: pointer;\n",
              "      display: none;\n",
              "      fill: #1967D2;\n",
              "      height: 32px;\n",
              "      padding: 0 0 0 0;\n",
              "      width: 32px;\n",
              "    }\n",
              "\n",
              "    .colab-df-convert:hover {\n",
              "      background-color: #E2EBFA;\n",
              "      box-shadow: 0px 1px 2px rgba(60, 64, 67, 0.3), 0px 1px 3px 1px rgba(60, 64, 67, 0.15);\n",
              "      fill: #174EA6;\n",
              "    }\n",
              "\n",
              "    [theme=dark] .colab-df-convert {\n",
              "      background-color: #3B4455;\n",
              "      fill: #D2E3FC;\n",
              "    }\n",
              "\n",
              "    [theme=dark] .colab-df-convert:hover {\n",
              "      background-color: #434B5C;\n",
              "      box-shadow: 0px 1px 3px 1px rgba(0, 0, 0, 0.15);\n",
              "      filter: drop-shadow(0px 1px 2px rgba(0, 0, 0, 0.3));\n",
              "      fill: #FFFFFF;\n",
              "    }\n",
              "  </style>\n",
              "\n",
              "      <script>\n",
              "        const buttonEl =\n",
              "          document.querySelector('#df-ab5f9e3c-f6e4-4384-8367-f0bd568e7561 button.colab-df-convert');\n",
              "        buttonEl.style.display =\n",
              "          google.colab.kernel.accessAllowed ? 'block' : 'none';\n",
              "\n",
              "        async function convertToInteractive(key) {\n",
              "          const element = document.querySelector('#df-ab5f9e3c-f6e4-4384-8367-f0bd568e7561');\n",
              "          const dataTable =\n",
              "            await google.colab.kernel.invokeFunction('convertToInteractive',\n",
              "                                                     [key], {});\n",
              "          if (!dataTable) return;\n",
              "\n",
              "          const docLinkHtml = 'Like what you see? Visit the ' +\n",
              "            '<a target=\"_blank\" href=https://colab.research.google.com/notebooks/data_table.ipynb>data table notebook</a>'\n",
              "            + ' to learn more about interactive tables.';\n",
              "          element.innerHTML = '';\n",
              "          dataTable['output_type'] = 'display_data';\n",
              "          await google.colab.output.renderOutput(dataTable, element);\n",
              "          const docLink = document.createElement('div');\n",
              "          docLink.innerHTML = docLinkHtml;\n",
              "          element.appendChild(docLink);\n",
              "        }\n",
              "      </script>\n",
              "    </div>\n",
              "  </div>\n",
              "  "
            ],
            "text/plain": [
              "       timestamp    open      high      low   close    volume\n",
              "5597  1999-11-01   98.50   98.8100   96.370   96.75   9551800\n",
              "5596  1999-11-02   96.75   96.8100   93.690   94.81  11105400\n",
              "5595  1999-11-03   95.87   95.9400   93.500   94.37  10369100\n",
              "5594  1999-11-04   94.44   94.4400   90.000   91.56  16697600\n",
              "5593  1999-11-05   92.75   92.9400   90.190   90.25  13737600\n",
              "...          ...     ...       ...      ...     ...       ...\n",
              "4     2022-01-24  127.99  129.1500  124.193  128.82  13777648\n",
              "3     2022-01-25  129.14  137.3361  128.300  136.10  19715698\n",
              "2     2022-01-26  136.47  137.0700  133.130  134.26   8335992\n",
              "1     2022-01-27  133.66  134.7500  132.080  132.52   5499566\n",
              "0     2022-01-28  133.19  134.5300  131.790  134.50   5471497\n",
              "\n",
              "[5598 rows x 6 columns]"
            ]
          },
          "metadata": {},
          "execution_count": 35
        }
      ]
    },
    {
      "cell_type": "code",
      "source": [
        "df1_ibm.shape"
      ],
      "metadata": {
        "colab": {
          "base_uri": "https://localhost:8080/"
        },
        "id": "hiSYl_pRJLKx",
        "outputId": "c53ffb2b-e715-42d7-fa30-cd8895273e73"
      },
      "execution_count": 36,
      "outputs": [
        {
          "output_type": "execute_result",
          "data": {
            "text/plain": [
              "(5598, 6)"
            ]
          },
          "metadata": {},
          "execution_count": 36
        }
      ]
    },
    {
      "cell_type": "code",
      "source": [
        "df1_ibm.info()"
      ],
      "metadata": {
        "colab": {
          "base_uri": "https://localhost:8080/"
        },
        "id": "jySY8jPYJOL0",
        "outputId": "4fc8a5b9-b717-408c-b393-1d38cef5e908"
      },
      "execution_count": 37,
      "outputs": [
        {
          "output_type": "stream",
          "name": "stdout",
          "text": [
            "<class 'pandas.core.frame.DataFrame'>\n",
            "RangeIndex: 5598 entries, 5597 to 0\n",
            "Data columns (total 6 columns):\n",
            " #   Column     Non-Null Count  Dtype  \n",
            "---  ------     --------------  -----  \n",
            " 0   timestamp  5598 non-null   object \n",
            " 1   open       5598 non-null   float64\n",
            " 2   high       5598 non-null   float64\n",
            " 3   low        5598 non-null   float64\n",
            " 4   close      5598 non-null   float64\n",
            " 5   volume     5598 non-null   int64  \n",
            "dtypes: float64(4), int64(1), object(1)\n",
            "memory usage: 262.5+ KB\n"
          ]
        }
      ]
    },
    {
      "cell_type": "code",
      "source": [
        "df1_ibm.describe()"
      ],
      "metadata": {
        "colab": {
          "base_uri": "https://localhost:8080/",
          "height": 300
        },
        "id": "0U515pSrJbdF",
        "outputId": "05ae5581-15ff-443c-a347-100ab4d1f7dd"
      },
      "execution_count": 38,
      "outputs": [
        {
          "output_type": "execute_result",
          "data": {
            "text/html": [
              "\n",
              "  <div id=\"df-f8cbc5aa-4e1b-4804-a422-c25669446e4e\">\n",
              "    <div class=\"colab-df-container\">\n",
              "      <div>\n",
              "<style scoped>\n",
              "    .dataframe tbody tr th:only-of-type {\n",
              "        vertical-align: middle;\n",
              "    }\n",
              "\n",
              "    .dataframe tbody tr th {\n",
              "        vertical-align: top;\n",
              "    }\n",
              "\n",
              "    .dataframe thead th {\n",
              "        text-align: right;\n",
              "    }\n",
              "</style>\n",
              "<table border=\"1\" class=\"dataframe\">\n",
              "  <thead>\n",
              "    <tr style=\"text-align: right;\">\n",
              "      <th></th>\n",
              "      <th>open</th>\n",
              "      <th>high</th>\n",
              "      <th>low</th>\n",
              "      <th>close</th>\n",
              "      <th>volume</th>\n",
              "    </tr>\n",
              "  </thead>\n",
              "  <tbody>\n",
              "    <tr>\n",
              "      <th>count</th>\n",
              "      <td>5598.000000</td>\n",
              "      <td>5598.000000</td>\n",
              "      <td>5598.000000</td>\n",
              "      <td>5598.000000</td>\n",
              "      <td>5.598000e+03</td>\n",
              "    </tr>\n",
              "    <tr>\n",
              "      <th>mean</th>\n",
              "      <td>129.248555</td>\n",
              "      <td>130.427084</td>\n",
              "      <td>128.153167</td>\n",
              "      <td>129.305274</td>\n",
              "      <td>6.071260e+06</td>\n",
              "    </tr>\n",
              "    <tr>\n",
              "      <th>std</th>\n",
              "      <td>36.630756</td>\n",
              "      <td>36.686280</td>\n",
              "      <td>36.581169</td>\n",
              "      <td>36.639588</td>\n",
              "      <td>3.329571e+06</td>\n",
              "    </tr>\n",
              "    <tr>\n",
              "      <th>min</th>\n",
              "      <td>54.650000</td>\n",
              "      <td>56.700000</td>\n",
              "      <td>54.010000</td>\n",
              "      <td>55.070000</td>\n",
              "      <td>1.928430e+05</td>\n",
              "    </tr>\n",
              "    <tr>\n",
              "      <th>25%</th>\n",
              "      <td>96.812500</td>\n",
              "      <td>98.055000</td>\n",
              "      <td>96.002500</td>\n",
              "      <td>97.005000</td>\n",
              "      <td>3.848904e+06</td>\n",
              "    </tr>\n",
              "    <tr>\n",
              "      <th>50%</th>\n",
              "      <td>125.180000</td>\n",
              "      <td>126.509950</td>\n",
              "      <td>124.130000</td>\n",
              "      <td>125.265000</td>\n",
              "      <td>5.247700e+06</td>\n",
              "    </tr>\n",
              "    <tr>\n",
              "      <th>75%</th>\n",
              "      <td>154.522500</td>\n",
              "      <td>155.772500</td>\n",
              "      <td>153.540000</td>\n",
              "      <td>154.757500</td>\n",
              "      <td>7.330700e+06</td>\n",
              "    </tr>\n",
              "    <tr>\n",
              "      <th>max</th>\n",
              "      <td>215.380000</td>\n",
              "      <td>215.900000</td>\n",
              "      <td>214.300000</td>\n",
              "      <td>215.800000</td>\n",
              "      <td>4.120730e+07</td>\n",
              "    </tr>\n",
              "  </tbody>\n",
              "</table>\n",
              "</div>\n",
              "      <button class=\"colab-df-convert\" onclick=\"convertToInteractive('df-f8cbc5aa-4e1b-4804-a422-c25669446e4e')\"\n",
              "              title=\"Convert this dataframe to an interactive table.\"\n",
              "              style=\"display:none;\">\n",
              "        \n",
              "  <svg xmlns=\"http://www.w3.org/2000/svg\" height=\"24px\"viewBox=\"0 0 24 24\"\n",
              "       width=\"24px\">\n",
              "    <path d=\"M0 0h24v24H0V0z\" fill=\"none\"/>\n",
              "    <path d=\"M18.56 5.44l.94 2.06.94-2.06 2.06-.94-2.06-.94-.94-2.06-.94 2.06-2.06.94zm-11 1L8.5 8.5l.94-2.06 2.06-.94-2.06-.94L8.5 2.5l-.94 2.06-2.06.94zm10 10l.94 2.06.94-2.06 2.06-.94-2.06-.94-.94-2.06-.94 2.06-2.06.94z\"/><path d=\"M17.41 7.96l-1.37-1.37c-.4-.4-.92-.59-1.43-.59-.52 0-1.04.2-1.43.59L10.3 9.45l-7.72 7.72c-.78.78-.78 2.05 0 2.83L4 21.41c.39.39.9.59 1.41.59.51 0 1.02-.2 1.41-.59l7.78-7.78 2.81-2.81c.8-.78.8-2.07 0-2.86zM5.41 20L4 18.59l7.72-7.72 1.47 1.35L5.41 20z\"/>\n",
              "  </svg>\n",
              "      </button>\n",
              "      \n",
              "  <style>\n",
              "    .colab-df-container {\n",
              "      display:flex;\n",
              "      flex-wrap:wrap;\n",
              "      gap: 12px;\n",
              "    }\n",
              "\n",
              "    .colab-df-convert {\n",
              "      background-color: #E8F0FE;\n",
              "      border: none;\n",
              "      border-radius: 50%;\n",
              "      cursor: pointer;\n",
              "      display: none;\n",
              "      fill: #1967D2;\n",
              "      height: 32px;\n",
              "      padding: 0 0 0 0;\n",
              "      width: 32px;\n",
              "    }\n",
              "\n",
              "    .colab-df-convert:hover {\n",
              "      background-color: #E2EBFA;\n",
              "      box-shadow: 0px 1px 2px rgba(60, 64, 67, 0.3), 0px 1px 3px 1px rgba(60, 64, 67, 0.15);\n",
              "      fill: #174EA6;\n",
              "    }\n",
              "\n",
              "    [theme=dark] .colab-df-convert {\n",
              "      background-color: #3B4455;\n",
              "      fill: #D2E3FC;\n",
              "    }\n",
              "\n",
              "    [theme=dark] .colab-df-convert:hover {\n",
              "      background-color: #434B5C;\n",
              "      box-shadow: 0px 1px 3px 1px rgba(0, 0, 0, 0.15);\n",
              "      filter: drop-shadow(0px 1px 2px rgba(0, 0, 0, 0.3));\n",
              "      fill: #FFFFFF;\n",
              "    }\n",
              "  </style>\n",
              "\n",
              "      <script>\n",
              "        const buttonEl =\n",
              "          document.querySelector('#df-f8cbc5aa-4e1b-4804-a422-c25669446e4e button.colab-df-convert');\n",
              "        buttonEl.style.display =\n",
              "          google.colab.kernel.accessAllowed ? 'block' : 'none';\n",
              "\n",
              "        async function convertToInteractive(key) {\n",
              "          const element = document.querySelector('#df-f8cbc5aa-4e1b-4804-a422-c25669446e4e');\n",
              "          const dataTable =\n",
              "            await google.colab.kernel.invokeFunction('convertToInteractive',\n",
              "                                                     [key], {});\n",
              "          if (!dataTable) return;\n",
              "\n",
              "          const docLinkHtml = 'Like what you see? Visit the ' +\n",
              "            '<a target=\"_blank\" href=https://colab.research.google.com/notebooks/data_table.ipynb>data table notebook</a>'\n",
              "            + ' to learn more about interactive tables.';\n",
              "          element.innerHTML = '';\n",
              "          dataTable['output_type'] = 'display_data';\n",
              "          await google.colab.output.renderOutput(dataTable, element);\n",
              "          const docLink = document.createElement('div');\n",
              "          docLink.innerHTML = docLinkHtml;\n",
              "          element.appendChild(docLink);\n",
              "        }\n",
              "      </script>\n",
              "    </div>\n",
              "  </div>\n",
              "  "
            ],
            "text/plain": [
              "              open         high          low        close        volume\n",
              "count  5598.000000  5598.000000  5598.000000  5598.000000  5.598000e+03\n",
              "mean    129.248555   130.427084   128.153167   129.305274  6.071260e+06\n",
              "std      36.630756    36.686280    36.581169    36.639588  3.329571e+06\n",
              "min      54.650000    56.700000    54.010000    55.070000  1.928430e+05\n",
              "25%      96.812500    98.055000    96.002500    97.005000  3.848904e+06\n",
              "50%     125.180000   126.509950   124.130000   125.265000  5.247700e+06\n",
              "75%     154.522500   155.772500   153.540000   154.757500  7.330700e+06\n",
              "max     215.380000   215.900000   214.300000   215.800000  4.120730e+07"
            ]
          },
          "metadata": {},
          "execution_count": 38
        }
      ]
    },
    {
      "cell_type": "code",
      "source": [
        "df1_ibm.plot('timestamp','close',color=\"red\",figsize=(10,7))\n",
        " \n",
        "# Extract only top 100 rows to make the plot a little clearer\n",
        "new_data = df1_ibm.head(100)\n",
        " \n",
        "#  Plotting date vs the close  market stock price\n",
        "new_data.plot('timestamp','close',color=\"green\",figsize=(10,7))\n",
        " \n",
        "plt.show()"
      ],
      "metadata": {
        "colab": {
          "base_uri": "https://localhost:8080/",
          "height": 867
        },
        "id": "eU4GcXTDJjFc",
        "outputId": "c78ab644-608f-4df6-e757-6883b5c155f7"
      },
      "execution_count": 39,
      "outputs": [
        {
          "output_type": "display_data",
          "data": {
            "image/png": "[encoded data removed]",
            "text/plain": [
              "<Figure size 720x504 with 1 Axes>"
            ]
          },
          "metadata": {
            "needs_background": "light"
          }
        },
        {
          "output_type": "display_data",
          "data": {
            "image/png": "[encoded data removed]",
            "text/plain": [
              "<Figure size 720x504 with 1 Axes>"
            ]
          },
          "metadata": {
            "needs_background": "light"
          }
        }
      ]
    },
    {
      "cell_type": "markdown",
      "source": [
        "**Parse Dates:**"
      ],
      "metadata": {
        "id": "Fzl4LxEhNAfu"
      }
    },
    {
      "cell_type": "code",
      "source": [
        "df2_ibm = pd.read_csv('/content/drive/MyDrive/daily_IBM.csv' , index_col=\"timestamp\", parse_dates=[\"timestamp\"])\n",
        "df2_ibm"
      ],
      "metadata": {
        "colab": {
          "base_uri": "https://localhost:8080/",
          "height": 455
        },
        "id": "zqu2Uss1L9OC",
        "outputId": "d13e3788-dfbe-4c02-e765-f7b25e3e0243"
      },
      "execution_count": 40,
      "outputs": [
        {
          "output_type": "execute_result",
          "data": {
            "text/html": [
              "\n",
              "  <div id=\"df-0f8fec37-a952-48d4-adfe-67731d33d6c8\">\n",
              "    <div class=\"colab-df-container\">\n",
              "      <div>\n",
              "<style scoped>\n",
              "    .dataframe tbody tr th:only-of-type {\n",
              "        vertical-align: middle;\n",
              "    }\n",
              "\n",
              "    .dataframe tbody tr th {\n",
              "        vertical-align: top;\n",
              "    }\n",
              "\n",
              "    .dataframe thead th {\n",
              "        text-align: right;\n",
              "    }\n",
              "</style>\n",
              "<table border=\"1\" class=\"dataframe\">\n",
              "  <thead>\n",
              "    <tr style=\"text-align: right;\">\n",
              "      <th></th>\n",
              "      <th>open</th>\n",
              "      <th>high</th>\n",
              "      <th>low</th>\n",
              "      <th>close</th>\n",
              "      <th>volume</th>\n",
              "    </tr>\n",
              "    <tr>\n",
              "      <th>timestamp</th>\n",
              "      <th></th>\n",
              "      <th></th>\n",
              "      <th></th>\n",
              "      <th></th>\n",
              "      <th></th>\n",
              "    </tr>\n",
              "  </thead>\n",
              "  <tbody>\n",
              "    <tr>\n",
              "      <th>2022-01-28</th>\n",
              "      <td>133.19</td>\n",
              "      <td>134.5300</td>\n",
              "      <td>131.790</td>\n",
              "      <td>134.50</td>\n",
              "      <td>5471497</td>\n",
              "    </tr>\n",
              "    <tr>\n",
              "      <th>2022-01-27</th>\n",
              "      <td>133.66</td>\n",
              "      <td>134.7500</td>\n",
              "      <td>132.080</td>\n",
              "      <td>132.52</td>\n",
              "      <td>5499566</td>\n",
              "    </tr>\n",
              "    <tr>\n",
              "      <th>2022-01-26</th>\n",
              "      <td>136.47</td>\n",
              "      <td>137.0700</td>\n",
              "      <td>133.130</td>\n",
              "      <td>134.26</td>\n",
              "      <td>8335992</td>\n",
              "    </tr>\n",
              "    <tr>\n",
              "      <th>2022-01-25</th>\n",
              "      <td>129.14</td>\n",
              "      <td>137.3361</td>\n",
              "      <td>128.300</td>\n",
              "      <td>136.10</td>\n",
              "      <td>19715698</td>\n",
              "    </tr>\n",
              "    <tr>\n",
              "      <th>2022-01-24</th>\n",
              "      <td>127.99</td>\n",
              "      <td>129.1500</td>\n",
              "      <td>124.193</td>\n",
              "      <td>128.82</td>\n",
              "      <td>13777648</td>\n",
              "    </tr>\n",
              "    <tr>\n",
              "      <th>...</th>\n",
              "      <td>...</td>\n",
              "      <td>...</td>\n",
              "      <td>...</td>\n",
              "      <td>...</td>\n",
              "      <td>...</td>\n",
              "    </tr>\n",
              "    <tr>\n",
              "      <th>1999-11-05</th>\n",
              "      <td>92.75</td>\n",
              "      <td>92.9400</td>\n",
              "      <td>90.190</td>\n",
              "      <td>90.25</td>\n",
              "      <td>13737600</td>\n",
              "    </tr>\n",
              "    <tr>\n",
              "      <th>1999-11-04</th>\n",
              "      <td>94.44</td>\n",
              "      <td>94.4400</td>\n",
              "      <td>90.000</td>\n",
              "      <td>91.56</td>\n",
              "      <td>16697600</td>\n",
              "    </tr>\n",
              "    <tr>\n",
              "      <th>1999-11-03</th>\n",
              "      <td>95.87</td>\n",
              "      <td>95.9400</td>\n",
              "      <td>93.500</td>\n",
              "      <td>94.37</td>\n",
              "      <td>10369100</td>\n",
              "    </tr>\n",
              "    <tr>\n",
              "      <th>1999-11-02</th>\n",
              "      <td>96.75</td>\n",
              "      <td>96.8100</td>\n",
              "      <td>93.690</td>\n",
              "      <td>94.81</td>\n",
              "      <td>11105400</td>\n",
              "    </tr>\n",
              "    <tr>\n",
              "      <th>1999-11-01</th>\n",
              "      <td>98.50</td>\n",
              "      <td>98.8100</td>\n",
              "      <td>96.370</td>\n",
              "      <td>96.75</td>\n",
              "      <td>9551800</td>\n",
              "    </tr>\n",
              "  </tbody>\n",
              "</table>\n",
              "<p>5598 rows × 5 columns</p>\n",
              "</div>\n",
              "      <button class=\"colab-df-convert\" onclick=\"convertToInteractive('df-0f8fec37-a952-48d4-adfe-67731d33d6c8')\"\n",
              "              title=\"Convert this dataframe to an interactive table.\"\n",
              "              style=\"display:none;\">\n",
              "        \n",
              "  <svg xmlns=\"http://www.w3.org/2000/svg\" height=\"24px\"viewBox=\"0 0 24 24\"\n",
              "       width=\"24px\">\n",
              "    <path d=\"M0 0h24v24H0V0z\" fill=\"none\"/>\n",
              "    <path d=\"M18.56 5.44l.94 2.06.94-2.06 2.06-.94-2.06-.94-.94-2.06-.94 2.06-2.06.94zm-11 1L8.5 8.5l.94-2.06 2.06-.94-2.06-.94L8.5 2.5l-.94 2.06-2.06.94zm10 10l.94 2.06.94-2.06 2.06-.94-2.06-.94-.94-2.06-.94 2.06-2.06.94z\"/><path d=\"M17.41 7.96l-1.37-1.37c-.4-.4-.92-.59-1.43-.59-.52 0-1.04.2-1.43.59L10.3 9.45l-7.72 7.72c-.78.78-.78 2.05 0 2.83L4 21.41c.39.39.9.59 1.41.59.51 0 1.02-.2 1.41-.59l7.78-7.78 2.81-2.81c.8-.78.8-2.07 0-2.86zM5.41 20L4 18.59l7.72-7.72 1.47 1.35L5.41 20z\"/>\n",
              "  </svg>\n",
              "      </button>\n",
              "      \n",
              "  <style>\n",
              "    .colab-df-container {\n",
              "      display:flex;\n",
              "      flex-wrap:wrap;\n",
              "      gap: 12px;\n",
              "    }\n",
              "\n",
              "    .colab-df-convert {\n",
              "      background-color: #E8F0FE;\n",
              "      border: none;\n",
              "      border-radius: 50%;\n",
              "      cursor: pointer;\n",
              "      display: none;\n",
              "      fill: #1967D2;\n",
              "      height: 32px;\n",
              "      padding: 0 0 0 0;\n",
              "      width: 32px;\n",
              "    }\n",
              "\n",
              "    .colab-df-convert:hover {\n",
              "      background-color: #E2EBFA;\n",
              "      box-shadow: 0px 1px 2px rgba(60, 64, 67, 0.3), 0px 1px 3px 1px rgba(60, 64, 67, 0.15);\n",
              "      fill: #174EA6;\n",
              "    }\n",
              "\n",
              "    [theme=dark] .colab-df-convert {\n",
              "      background-color: #3B4455;\n",
              "      fill: #D2E3FC;\n",
              "    }\n",
              "\n",
              "    [theme=dark] .colab-df-convert:hover {\n",
              "      background-color: #434B5C;\n",
              "      box-shadow: 0px 1px 3px 1px rgba(0, 0, 0, 0.15);\n",
              "      filter: drop-shadow(0px 1px 2px rgba(0, 0, 0, 0.3));\n",
              "      fill: #FFFFFF;\n",
              "    }\n",
              "  </style>\n",
              "\n",
              "      <script>\n",
              "        const buttonEl =\n",
              "          document.querySelector('#df-0f8fec37-a952-48d4-adfe-67731d33d6c8 button.colab-df-convert');\n",
              "        buttonEl.style.display =\n",
              "          google.colab.kernel.accessAllowed ? 'block' : 'none';\n",
              "\n",
              "        async function convertToInteractive(key) {\n",
              "          const element = document.querySelector('#df-0f8fec37-a952-48d4-adfe-67731d33d6c8');\n",
              "          const dataTable =\n",
              "            await google.colab.kernel.invokeFunction('convertToInteractive',\n",
              "                                                     [key], {});\n",
              "          if (!dataTable) return;\n",
              "\n",
              "          const docLinkHtml = 'Like what you see? Visit the ' +\n",
              "            '<a target=\"_blank\" href=https://colab.research.google.com/notebooks/data_table.ipynb>data table notebook</a>'\n",
              "            + ' to learn more about interactive tables.';\n",
              "          element.innerHTML = '';\n",
              "          dataTable['output_type'] = 'display_data';\n",
              "          await google.colab.output.renderOutput(dataTable, element);\n",
              "          const docLink = document.createElement('div');\n",
              "          docLink.innerHTML = docLinkHtml;\n",
              "          element.appendChild(docLink);\n",
              "        }\n",
              "      </script>\n",
              "    </div>\n",
              "  </div>\n",
              "  "
            ],
            "text/plain": [
              "              open      high      low   close    volume\n",
              "timestamp                                              \n",
              "2022-01-28  133.19  134.5300  131.790  134.50   5471497\n",
              "2022-01-27  133.66  134.7500  132.080  132.52   5499566\n",
              "2022-01-26  136.47  137.0700  133.130  134.26   8335992\n",
              "2022-01-25  129.14  137.3361  128.300  136.10  19715698\n",
              "2022-01-24  127.99  129.1500  124.193  128.82  13777648\n",
              "...            ...       ...      ...     ...       ...\n",
              "1999-11-05   92.75   92.9400   90.190   90.25  13737600\n",
              "1999-11-04   94.44   94.4400   90.000   91.56  16697600\n",
              "1999-11-03   95.87   95.9400   93.500   94.37  10369100\n",
              "1999-11-02   96.75   96.8100   93.690   94.81  11105400\n",
              "1999-11-01   98.50   98.8100   96.370   96.75   9551800\n",
              "\n",
              "[5598 rows x 5 columns]"
            ]
          },
          "metadata": {},
          "execution_count": 40
        }
      ]
    },
    {
      "cell_type": "code",
      "source": [
        "sns.distplot(df2_ibm.open)"
      ],
      "metadata": {
        "colab": {
          "base_uri": "https://localhost:8080/",
          "height": 297
        },
        "id": "dC-OAbCzKBnK",
        "outputId": "9f61585a-4eb4-4cfc-e6c7-fdba69c0f240"
      },
      "execution_count": 41,
      "outputs": [
        {
          "output_type": "execute_result",
          "data": {
            "text/plain": [
              "<matplotlib.axes._subplots.AxesSubplot at 0x7faa27d57f10>"
            ]
          },
          "metadata": {},
          "execution_count": 41
        },
        {
          "output_type": "display_data",
          "data": {
            "image/png": "[encoded data removed]",
            "text/plain": [
              "<Figure size 432x288 with 1 Axes>"
            ]
          },
          "metadata": {
            "needs_background": "light"
          }
        }
      ]
    },
    {
      "cell_type": "code",
      "source": [
        "sns.distplot(df2_ibm.high)"
      ],
      "metadata": {
        "colab": {
          "base_uri": "https://localhost:8080/",
          "height": 297
        },
        "id": "hnQbG-hEKH1z",
        "outputId": "2a198eb2-0524-4bb2-9316-fffeeeb429c1"
      },
      "execution_count": 42,
      "outputs": [
        {
          "output_type": "execute_result",
          "data": {
            "text/plain": [
              "<matplotlib.axes._subplots.AxesSubplot at 0x7faa27ef0450>"
            ]
          },
          "metadata": {},
          "execution_count": 42
        },
        {
          "output_type": "display_data",
          "data": {
            "image/png": "[encoded data removed]",
            "text/plain": [
              "<Figure size 432x288 with 1 Axes>"
            ]
          },
          "metadata": {
            "needs_background": "light"
          }
        }
      ]
    },
    {
      "cell_type": "code",
      "source": [
        "sns.distplot(df2_ibm.low)"
      ],
      "metadata": {
        "colab": {
          "base_uri": "https://localhost:8080/",
          "height": 297
        },
        "id": "ZsOm2g_yKLAj",
        "outputId": "61253e93-757d-46ed-f693-a623feb3878c"
      },
      "execution_count": 43,
      "outputs": [
        {
          "output_type": "execute_result",
          "data": {
            "text/plain": [
              "<matplotlib.axes._subplots.AxesSubplot at 0x7faa27b6e150>"
            ]
          },
          "metadata": {},
          "execution_count": 43
        },
        {
          "output_type": "display_data",
          "data": {
            "image/png": "[encoded data removed]",
            "text/plain": [
              "<Figure size 432x288 with 1 Axes>"
            ]
          },
          "metadata": {
            "needs_background": "light"
          }
        }
      ]
    },
    {
      "cell_type": "code",
      "source": [
        "sns.distplot(df2_ibm.close)"
      ],
      "metadata": {
        "colab": {
          "base_uri": "https://localhost:8080/",
          "height": 297
        },
        "id": "g1APL8mMKPUy",
        "outputId": "dde8a566-001d-4485-ca6e-1500bb5b50b1"
      },
      "execution_count": 44,
      "outputs": [
        {
          "output_type": "execute_result",
          "data": {
            "text/plain": [
              "<matplotlib.axes._subplots.AxesSubplot at 0x7faa27abc8d0>"
            ]
          },
          "metadata": {},
          "execution_count": 44
        },
        {
          "output_type": "display_data",
          "data": {
            "image/png": "[encoded data removed]",
            "text/plain": [
              "<Figure size 432x288 with 1 Axes>"
            ]
          },
          "metadata": {
            "needs_background": "light"
          }
        }
      ]
    },
    {
      "cell_type": "code",
      "source": [
        "X = df2_ibm.drop('close', axis = 1)\n",
        "y = df2_ibm['close']"
      ],
      "metadata": {
        "id": "BrmsI303KR5S"
      },
      "execution_count": 45,
      "outputs": []
    },
    {
      "cell_type": "markdown",
      "source": [
        "**Training and Testing Dataset**"
      ],
      "metadata": {
        "id": "zqSN7EO8Kcuu"
      }
    },
    {
      "cell_type": "code",
      "source": [
        "from sklearn.model_selection import train_test_split\n",
        "\n",
        "X_train, X_test, y_train, y_test = train_test_split(X, y, test_size = 0.2, random_state=0)"
      ],
      "metadata": {
        "id": "h7bhdFLLKfjS"
      },
      "execution_count": 46,
      "outputs": []
    },
    {
      "cell_type": "code",
      "source": [
        "print(X_train.shape, X_test.shape,y_train.shape,y_test.shape)"
      ],
      "metadata": {
        "colab": {
          "base_uri": "https://localhost:8080/"
        },
        "id": "1_vHqC-uLCA3",
        "outputId": "10e25733-36f7-4bbf-907f-2d2869722adc"
      },
      "execution_count": 47,
      "outputs": [
        {
          "output_type": "stream",
          "name": "stdout",
          "text": [
            "(4478, 4) (1120, 4) (4478,) (1120,)\n"
          ]
        }
      ]
    },
    {
      "cell_type": "markdown",
      "source": [
        "**Modeling Part**"
      ],
      "metadata": {
        "id": "gQxjjzDALWAc"
      }
    },
    {
      "cell_type": "code",
      "source": [
        "from sklearn.linear_model import LinearRegression\n",
        "\n",
        "model_lr = LinearRegression()\n",
        "model_lr.fit(X_train, y_train)\n",
        "pred = model_lr.predict(X_test)"
      ],
      "metadata": {
        "id": "o_ZkUi0gLS3a"
      },
      "execution_count": 48,
      "outputs": []
    },
    {
      "cell_type": "code",
      "source": [
        "pred"
      ],
      "metadata": {
        "colab": {
          "base_uri": "https://localhost:8080/"
        },
        "id": "u9EajHzENNZT",
        "outputId": "32438672-08c8-4b81-9297-eb30184b0126"
      },
      "execution_count": 49,
      "outputs": [
        {
          "output_type": "execute_result",
          "data": {
            "text/plain": [
              "array([129.34945145, 187.25531399,  93.17389106, ..., 106.59083621,\n",
              "       185.31623482, 146.52315701])"
            ]
          },
          "metadata": {},
          "execution_count": 49
        }
      ]
    },
    {
      "cell_type": "code",
      "source": [
        "from sklearn.metrics import mean_squared_error, r2_score\n",
        "\n",
        "def calculate_metrics(y_test, y_pred):\n",
        "    '''\n",
        "        y_test: ground truth\n",
        "        y_pred: model predict value\n",
        "    '''\n",
        "    mse = mean_squared_error(y_test, y_pred)\n",
        "    rmse = np.sqrt(mse)\n",
        "    r2_scores = r2_score(y_test, y_pred)\n",
        "    print('*'*50)\n",
        "    print(f\"*  Mean Square Error: {mse}\")\n",
        "    print(f\"*  Root Mean Square Error: {rmse}\")\n",
        "    print(f\"*  r2_score: {r2_scores}\")\n",
        "    print('*'*50)\n",
        "\n",
        "calculate_metrics(y_test, pred)"
      ],
      "metadata": {
        "colab": {
          "base_uri": "https://localhost:8080/"
        },
        "id": "z2Bje3rtNUbD",
        "outputId": "eab6967a-8420-4532-de34-acfb822fc57c"
      },
      "execution_count": 50,
      "outputs": [
        {
          "output_type": "stream",
          "name": "stdout",
          "text": [
            "**************************************************\n",
            "*  Mean Square Error: 0.4855821529688011\n",
            "*  Root Mean Square Error: 0.6968372499865382\n",
            "*  r2_score: 0.9996399122185553\n",
            "**************************************************\n"
          ]
        }
      ]
    },
    {
      "cell_type": "code",
      "source": [
        "from sklearn.linear_model import Lasso, Ridge\n",
        "\n",
        "model_lasso = Lasso().fit(X_train, y_train)\n",
        "model_ridge = Ridge().fit(X_train, y_train)\n",
        "\n",
        "model_lasso_pred = model_lasso.predict(X_test)\n",
        "model_ridge_pred = model_ridge.predict(X_test)"
      ],
      "metadata": {
        "id": "ZviCOBLhNVAw"
      },
      "execution_count": 51,
      "outputs": []
    },
    {
      "cell_type": "code",
      "source": [
        "calculate_metrics(y_test, model_lasso_pred)\n",
        "\n",
        "calculate_metrics(y_test, model_ridge_pred)"
      ],
      "metadata": {
        "colab": {
          "base_uri": "https://localhost:8080/"
        },
        "id": "RYdeVsUnNZTw",
        "outputId": "d8f5e044-47b3-4f0e-a046-9d04a55e20c1"
      },
      "execution_count": 52,
      "outputs": [
        {
          "output_type": "stream",
          "name": "stdout",
          "text": [
            "**************************************************\n",
            "*  Mean Square Error: 1.0543505732426555\n",
            "*  Root Mean Square Error: 1.0268157445436135\n",
            "*  r2_score: 0.999218136917795\n",
            "**************************************************\n",
            "**************************************************\n",
            "*  Mean Square Error: 0.48558879871121324\n",
            "*  Root Mean Square Error: 0.6968420184742115\n",
            "*  r2_score: 0.9996399072903457\n",
            "**************************************************\n"
          ]
        }
      ]
    },
    {
      "cell_type": "code",
      "source": [
        "from sklearn.svm import SVR\n",
        "from sklearn.model_selection import GridSearchCV\n",
        "\n",
        "params = {\n",
        "    'C': [0.1, 1, 10, 100, 1000],\n",
        "    'gamma': [1, 0.1, 0.01, 0.001, 0.0001],\n",
        "    'kernel': ['rbf']\n",
        "}\n",
        "\n",
        "params_grid = GridSearchCV(SVR(), params, refit=True, verbose=3)\n",
        "params_grid.fit(X_train, y_train)"
      ],
      "metadata": {
        "colab": {
          "base_uri": "https://localhost:8080/"
        },
        "id": "LwCM_drwNa8c",
        "outputId": "83987623-20cd-4052-d56e-33cbdcaf8863"
      },
      "execution_count": 53,
      "outputs": [
        {
          "output_type": "stream",
          "name": "stdout",
          "text": [
            "Fitting 5 folds for each of 25 candidates, totalling 125 fits\n",
            "[CV 1/5] END .......C=0.1, gamma=1, kernel=rbf;, score=-0.023 total time=   2.5s\n",
            "[CV 2/5] END .......C=0.1, gamma=1, kernel=rbf;, score=-0.013 total time=   2.8s\n",
            "[CV 3/5] END .......C=0.1, gamma=1, kernel=rbf;, score=-0.011 total time=   2.0s\n",
            "[CV 4/5] END .......C=0.1, gamma=1, kernel=rbf;, score=-0.009 total time=   1.7s\n",
            "[CV 5/5] END .......C=0.1, gamma=1, kernel=rbf;, score=-0.013 total time=   1.3s\n",
            "[CV 1/5] END .....C=0.1, gamma=0.1, kernel=rbf;, score=-0.023 total time=   1.4s\n",
            "[CV 2/5] END .....C=0.1, gamma=0.1, kernel=rbf;, score=-0.013 total time=   0.8s\n",
            "[CV 3/5] END .....C=0.1, gamma=0.1, kernel=rbf;, score=-0.011 total time=   0.8s\n",
            "[CV 4/5] END .....C=0.1, gamma=0.1, kernel=rbf;, score=-0.009 total time=   0.8s\n",
            "[CV 5/5] END .....C=0.1, gamma=0.1, kernel=rbf;, score=-0.013 total time=   0.8s\n",
            "[CV 1/5] END ....C=0.1, gamma=0.01, kernel=rbf;, score=-0.023 total time=   0.8s\n",
            "[CV 2/5] END ....C=0.1, gamma=0.01, kernel=rbf;, score=-0.013 total time=   0.8s\n",
            "[CV 3/5] END ....C=0.1, gamma=0.01, kernel=rbf;, score=-0.011 total time=   0.8s\n",
            "[CV 4/5] END ....C=0.1, gamma=0.01, kernel=rbf;, score=-0.009 total time=   0.8s\n",
            "[CV 5/5] END ....C=0.1, gamma=0.01, kernel=rbf;, score=-0.013 total time=   0.8s\n",
            "[CV 1/5] END ...C=0.1, gamma=0.001, kernel=rbf;, score=-0.023 total time=   0.8s\n",
            "[CV 2/5] END ...C=0.1, gamma=0.001, kernel=rbf;, score=-0.013 total time=   0.8s\n",
            "[CV 3/5] END ...C=0.1, gamma=0.001, kernel=rbf;, score=-0.011 total time=   0.8s\n",
            "[CV 4/5] END ...C=0.1, gamma=0.001, kernel=rbf;, score=-0.009 total time=   1.6s\n",
            "[CV 5/5] END ...C=0.1, gamma=0.001, kernel=rbf;, score=-0.013 total time=   2.5s\n",
            "[CV 1/5] END ..C=0.1, gamma=0.0001, kernel=rbf;, score=-0.023 total time=   1.9s\n",
            "[CV 2/5] END ..C=0.1, gamma=0.0001, kernel=rbf;, score=-0.013 total time=   0.8s\n",
            "[CV 3/5] END ..C=0.1, gamma=0.0001, kernel=rbf;, score=-0.011 total time=   0.8s\n",
            "[CV 4/5] END ..C=0.1, gamma=0.0001, kernel=rbf;, score=-0.009 total time=   0.8s\n",
            "[CV 5/5] END ..C=0.1, gamma=0.0001, kernel=rbf;, score=-0.013 total time=   0.8s\n",
            "[CV 1/5] END .........C=1, gamma=1, kernel=rbf;, score=-0.022 total time=   0.8s\n",
            "[CV 2/5] END .........C=1, gamma=1, kernel=rbf;, score=-0.013 total time=   0.8s\n",
            "[CV 3/5] END .........C=1, gamma=1, kernel=rbf;, score=-0.011 total time=   0.8s\n",
            "[CV 4/5] END .........C=1, gamma=1, kernel=rbf;, score=-0.008 total time=   0.8s\n",
            "[CV 5/5] END .........C=1, gamma=1, kernel=rbf;, score=-0.012 total time=   0.8s\n",
            "[CV 1/5] END .......C=1, gamma=0.1, kernel=rbf;, score=-0.022 total time=   0.8s\n",
            "[CV 2/5] END .......C=1, gamma=0.1, kernel=rbf;, score=-0.012 total time=   0.8s\n",
            "[CV 3/5] END .......C=1, gamma=0.1, kernel=rbf;, score=-0.011 total time=   0.8s\n",
            "[CV 4/5] END .......C=1, gamma=0.1, kernel=rbf;, score=-0.008 total time=   0.8s\n",
            "[CV 5/5] END .......C=1, gamma=0.1, kernel=rbf;, score=-0.012 total time=   0.8s\n",
            "[CV 1/5] END ......C=1, gamma=0.01, kernel=rbf;, score=-0.022 total time=   0.8s\n",
            "[CV 2/5] END ......C=1, gamma=0.01, kernel=rbf;, score=-0.012 total time=   0.8s\n",
            "[CV 3/5] END ......C=1, gamma=0.01, kernel=rbf;, score=-0.011 total time=   0.8s\n",
            "[CV 4/5] END ......C=1, gamma=0.01, kernel=rbf;, score=-0.008 total time=   0.8s\n",
            "[CV 5/5] END ......C=1, gamma=0.01, kernel=rbf;, score=-0.012 total time=   0.8s\n",
            "[CV 1/5] END .....C=1, gamma=0.001, kernel=rbf;, score=-0.022 total time=   0.8s\n",
            "[CV 2/5] END .....C=1, gamma=0.001, kernel=rbf;, score=-0.012 total time=   0.8s\n",
            "[CV 3/5] END .....C=1, gamma=0.001, kernel=rbf;, score=-0.011 total time=   0.8s\n",
            "[CV 4/5] END .....C=1, gamma=0.001, kernel=rbf;, score=-0.008 total time=   0.8s\n",
            "[CV 5/5] END .....C=1, gamma=0.001, kernel=rbf;, score=-0.011 total time=   0.8s\n",
            "[CV 1/5] END ....C=1, gamma=0.0001, kernel=rbf;, score=-0.021 total time=   0.8s\n",
            "[CV 2/5] END ....C=1, gamma=0.0001, kernel=rbf;, score=-0.011 total time=   0.8s\n",
            "[CV 3/5] END ....C=1, gamma=0.0001, kernel=rbf;, score=-0.010 total time=   0.8s\n",
            "[CV 4/5] END ....C=1, gamma=0.0001, kernel=rbf;, score=-0.007 total time=   0.8s\n",
            "[CV 5/5] END ....C=1, gamma=0.0001, kernel=rbf;, score=-0.010 total time=   0.8s\n",
            "[CV 1/5] END ........C=10, gamma=1, kernel=rbf;, score=-0.018 total time=   0.9s\n",
            "[CV 2/5] END ........C=10, gamma=1, kernel=rbf;, score=-0.010 total time=   0.9s\n",
            "[CV 3/5] END ........C=10, gamma=1, kernel=rbf;, score=-0.008 total time=   0.8s\n",
            "[CV 4/5] END ........C=10, gamma=1, kernel=rbf;, score=-0.005 total time=   0.9s\n",
            "[CV 5/5] END ........C=10, gamma=1, kernel=rbf;, score=-0.009 total time=   0.9s\n",
            "[CV 1/5] END ......C=10, gamma=0.1, kernel=rbf;, score=-0.018 total time=   0.9s\n",
            "[CV 2/5] END ......C=10, gamma=0.1, kernel=rbf;, score=-0.009 total time=   0.9s\n",
            "[CV 3/5] END ......C=10, gamma=0.1, kernel=rbf;, score=-0.008 total time=   0.9s\n",
            "[CV 4/5] END ......C=10, gamma=0.1, kernel=rbf;, score=-0.004 total time=   0.9s\n",
            "[CV 5/5] END ......C=10, gamma=0.1, kernel=rbf;, score=-0.007 total time=   0.9s\n",
            "[CV 1/5] END .....C=10, gamma=0.01, kernel=rbf;, score=-0.017 total time=   0.9s\n",
            "[CV 2/5] END .....C=10, gamma=0.01, kernel=rbf;, score=-0.009 total time=   0.8s\n",
            "[CV 3/5] END .....C=10, gamma=0.01, kernel=rbf;, score=-0.007 total time=   0.9s\n",
            "[CV 4/5] END .....C=10, gamma=0.01, kernel=rbf;, score=-0.002 total time=   0.9s\n",
            "[CV 5/5] END .....C=10, gamma=0.01, kernel=rbf;, score=-0.005 total time=   0.8s\n",
            "[CV 1/5] END ....C=10, gamma=0.001, kernel=rbf;, score=-0.015 total time=   0.9s\n",
            "[CV 2/5] END ....C=10, gamma=0.001, kernel=rbf;, score=-0.005 total time=   0.8s\n",
            "[CV 3/5] END ....C=10, gamma=0.001, kernel=rbf;, score=-0.004 total time=   0.9s\n",
            "[CV 4/5] END ....C=10, gamma=0.001, kernel=rbf;, score=-0.000 total time=   0.9s\n",
            "[CV 5/5] END ....C=10, gamma=0.001, kernel=rbf;, score=-0.002 total time=   0.8s\n",
            "[CV 1/5] END ...C=10, gamma=0.0001, kernel=rbf;, score=-0.004 total time=   0.8s\n",
            "[CV 2/5] END ....C=10, gamma=0.0001, kernel=rbf;, score=0.005 total time=   0.9s\n",
            "[CV 3/5] END ....C=10, gamma=0.0001, kernel=rbf;, score=0.005 total time=   0.9s\n",
            "[CV 4/5] END ....C=10, gamma=0.0001, kernel=rbf;, score=0.011 total time=   0.9s\n",
            "[CV 5/5] END ....C=10, gamma=0.0001, kernel=rbf;, score=0.008 total time=   0.9s\n",
            "[CV 1/5] END .......C=100, gamma=1, kernel=rbf;, score=-0.002 total time=   1.4s\n",
            "[CV 2/5] END .......C=100, gamma=1, kernel=rbf;, score=-0.000 total time=   1.4s\n",
            "[CV 3/5] END .......C=100, gamma=1, kernel=rbf;, score=-0.000 total time=   1.4s\n",
            "[CV 4/5] END .......C=100, gamma=1, kernel=rbf;, score=-0.000 total time=   1.4s\n",
            "[CV 5/5] END ........C=100, gamma=1, kernel=rbf;, score=0.000 total time=   1.5s\n",
            "[CV 1/5] END ......C=100, gamma=0.1, kernel=rbf;, score=0.000 total time=   1.4s\n",
            "[CV 2/5] END ......C=100, gamma=0.1, kernel=rbf;, score=0.001 total time=   1.5s\n",
            "[CV 3/5] END ......C=100, gamma=0.1, kernel=rbf;, score=0.001 total time=   1.4s\n",
            "[CV 4/5] END ......C=100, gamma=0.1, kernel=rbf;, score=0.007 total time=   1.5s\n",
            "[CV 5/5] END ......C=100, gamma=0.1, kernel=rbf;, score=0.008 total time=   1.4s\n",
            "[CV 1/5] END .....C=100, gamma=0.01, kernel=rbf;, score=0.003 total time=   1.5s\n",
            "[CV 2/5] END .....C=100, gamma=0.01, kernel=rbf;, score=0.002 total time=   1.4s\n",
            "[CV 3/5] END .....C=100, gamma=0.01, kernel=rbf;, score=0.003 total time=   1.4s\n",
            "[CV 4/5] END .....C=100, gamma=0.01, kernel=rbf;, score=0.010 total time=   1.4s\n",
            "[CV 5/5] END .....C=100, gamma=0.01, kernel=rbf;, score=0.012 total time=   2.1s\n",
            "[CV 1/5] END ....C=100, gamma=0.001, kernel=rbf;, score=0.008 total time=   1.4s\n",
            "[CV 2/5] END ....C=100, gamma=0.001, kernel=rbf;, score=0.014 total time=   1.4s\n",
            "[CV 3/5] END ....C=100, gamma=0.001, kernel=rbf;, score=0.010 total time=   1.4s\n",
            "[CV 4/5] END ....C=100, gamma=0.001, kernel=rbf;, score=0.016 total time=   1.4s\n",
            "[CV 5/5] END ....C=100, gamma=0.001, kernel=rbf;, score=0.021 total time=   1.5s\n",
            "[CV 1/5] END ...C=100, gamma=0.0001, kernel=rbf;, score=0.037 total time=   1.4s\n",
            "[CV 2/5] END ...C=100, gamma=0.0001, kernel=rbf;, score=0.040 total time=   1.4s\n",
            "[CV 3/5] END ...C=100, gamma=0.0001, kernel=rbf;, score=0.027 total time=   1.4s\n",
            "[CV 4/5] END ...C=100, gamma=0.0001, kernel=rbf;, score=0.049 total time=   1.5s\n",
            "[CV 5/5] END ...C=100, gamma=0.0001, kernel=rbf;, score=0.040 total time=   2.0s\n",
            "[CV 1/5] END ......C=1000, gamma=1, kernel=rbf;, score=-0.002 total time=   1.4s\n",
            "[CV 2/5] END ......C=1000, gamma=1, kernel=rbf;, score=-0.000 total time=   1.4s\n",
            "[CV 3/5] END ......C=1000, gamma=1, kernel=rbf;, score=-0.000 total time=   1.4s\n",
            "[CV 4/5] END ......C=1000, gamma=1, kernel=rbf;, score=-0.000 total time=   1.4s\n",
            "[CV 5/5] END .......C=1000, gamma=1, kernel=rbf;, score=0.000 total time=   1.4s\n",
            "[CV 1/5] END .....C=1000, gamma=0.1, kernel=rbf;, score=0.000 total time=   1.4s\n",
            "[CV 2/5] END .....C=1000, gamma=0.1, kernel=rbf;, score=0.001 total time=   1.5s\n",
            "[CV 3/5] END .....C=1000, gamma=0.1, kernel=rbf;, score=0.001 total time=   1.4s\n",
            "[CV 4/5] END .....C=1000, gamma=0.1, kernel=rbf;, score=0.007 total time=   1.5s\n",
            "[CV 5/5] END .....C=1000, gamma=0.1, kernel=rbf;, score=0.008 total time=   1.4s\n",
            "[CV 1/5] END ....C=1000, gamma=0.01, kernel=rbf;, score=0.003 total time=   1.4s\n",
            "[CV 2/5] END ....C=1000, gamma=0.01, kernel=rbf;, score=0.002 total time=   1.4s\n",
            "[CV 3/5] END ....C=1000, gamma=0.01, kernel=rbf;, score=0.003 total time=   1.5s\n",
            "[CV 4/5] END ....C=1000, gamma=0.01, kernel=rbf;, score=0.010 total time=   1.4s\n",
            "[CV 5/5] END ....C=1000, gamma=0.01, kernel=rbf;, score=0.012 total time=   1.4s\n",
            "[CV 1/5] END ...C=1000, gamma=0.001, kernel=rbf;, score=0.008 total time=   1.4s\n",
            "[CV 2/5] END ...C=1000, gamma=0.001, kernel=rbf;, score=0.014 total time=   1.4s\n",
            "[CV 3/5] END ...C=1000, gamma=0.001, kernel=rbf;, score=0.010 total time=   1.4s\n",
            "[CV 4/5] END ...C=1000, gamma=0.001, kernel=rbf;, score=0.016 total time=   1.4s\n",
            "[CV 5/5] END ...C=1000, gamma=0.001, kernel=rbf;, score=0.021 total time=   1.4s\n",
            "[CV 1/5] END ..C=1000, gamma=0.0001, kernel=rbf;, score=0.037 total time=   1.4s\n",
            "[CV 2/5] END ..C=1000, gamma=0.0001, kernel=rbf;, score=0.040 total time=   1.4s\n",
            "[CV 3/5] END ..C=1000, gamma=0.0001, kernel=rbf;, score=0.027 total time=   1.4s\n",
            "[CV 4/5] END ..C=1000, gamma=0.0001, kernel=rbf;, score=0.049 total time=   1.5s\n",
            "[CV 5/5] END ..C=1000, gamma=0.0001, kernel=rbf;, score=0.040 total time=   1.4s\n"
          ]
        },
        {
          "output_type": "execute_result",
          "data": {
            "text/plain": [
              "GridSearchCV(estimator=SVR(),\n",
              "             param_grid={'C': [0.1, 1, 10, 100, 1000],\n",
              "                         'gamma': [1, 0.1, 0.01, 0.001, 0.0001],\n",
              "                         'kernel': ['rbf']},\n",
              "             verbose=3)"
            ]
          },
          "metadata": {},
          "execution_count": 53
        }
      ]
    },
    {
      "cell_type": "code",
      "source": [
        "model_svr = SVR(C=10, gamma=0.1, kernel='rbf')\n",
        "model_svr.fit(X_train, y_train)\n",
        "svr_pred = model_svr.predict(X_test)"
      ],
      "metadata": {
        "id": "caW1aWdFNd4b"
      },
      "execution_count": 54,
      "outputs": []
    },
    {
      "cell_type": "code",
      "source": [
        "import joblib  \n",
        "\n",
        "joblib.dump(model_ridge, 'modell_ibm1.pkl') \n",
        "\n",
        "ridge_from_joblib = model = joblib.load(\"modell_ibm1.pkl\")"
      ],
      "metadata": {
        "id": "VMacIudVOFBN"
      },
      "execution_count": 55,
      "outputs": []
    },
    {
      "cell_type": "code",
      "source": [
        "import joblib \n",
        "import numpy as np\n",
        "\n",
        "def preprocess(Open, High, Low, Volume):\n",
        "    test_data = [[Open, High, Low, Volume]]\n",
        "    trained_model = joblib.load('/content/modell_ibm1.pkl')\n",
        "    prediction = trained_model.predict(test_data)\n",
        "    return prediction"
      ],
      "metadata": {
        "id": "EseSHLLHPA3m"
      },
      "execution_count": 56,
      "outputs": []
    },
    {
      "cell_type": "code",
      "source": [
        "from flask import Flask, render_template, request\n",
        "import utils\n",
        "\n",
        "app = Flask(__name__)\n",
        "\n",
        "@app.route('/')\n",
        "def main():\n",
        "    return render_template('index.html')\n",
        "\n",
        "@app.route('/predict/', methods = ['GET', 'POST'])\n",
        "def predict():\n",
        "    if request.method == 'POST':\n",
        "        Open = request.form.get('Open')\n",
        "        High = request.form.get('High')\n",
        "        Low = request.form.get('Low')\n",
        "        Volume = request.form.get('Volume')\n",
        "    \n",
        "    prediction = utils.preprocess(Open, High, Low, Volume)\n",
        "\n",
        "    return render_template('prediction.html', prediction = prediction)\n",
        "\n",
        "\n",
        "\n",
        "#@app.errorhandler(404)\n",
        "#def error(e): \n",
        "    #return render_template('404.html')\n",
        "\n",
        "if __name__ == \"__main__\":\n",
        "    app.run(debug=True)"
      ],
      "metadata": {
        "colab": {
          "base_uri": "https://localhost:8080/",
          "height": 235
        },
        "id": "z-kbwIGBV4ye",
        "outputId": "faee9923-33d2-4596-f8b4-fa3a7d7cee89"
      },
      "execution_count": 59,
      "outputs": [
        {
          "output_type": "stream",
          "name": "stdout",
          "text": [
            " * Serving Flask app \"__main__\" (lazy loading)\n",
            " * Environment: production\n",
            "\u001b[31m   WARNING: This is a development server. Do not use it in a production deployment.\u001b[0m\n",
            "\u001b[2m   Use a production WSGI server instead.\u001b[0m\n",
            " * Debug mode: on\n"
          ]
        },
        {
          "output_type": "stream",
          "name": "stderr",
          "text": [
            " * Running on http://127.0.0.1:5000/ (Press CTRL+C to quit)\n",
            " * Restarting with stat\n"
          ]
        },
        {
          "output_type": "error",
          "ename": "SystemExit",
          "evalue": "ignored",
          "traceback": [
            "An exception has occurred, use %tb to see the full traceback.\n",
            "\u001b[0;31mSystemExit\u001b[0m\u001b[0;31m:\u001b[0m 1\n"
          ]
        }
      ]
    },
    {
      "cell_type": "code",
      "source": [
        "pip install utils"
      ],
      "metadata": {
        "colab": {
          "base_uri": "https://localhost:8080/"
        },
        "id": "CUoQSGmqWT88",
        "outputId": "a54bf497-fc78-41fc-a8f4-31253bc56a14"
      },
      "execution_count": 58,
      "outputs": [
        {
          "output_type": "stream",
          "name": "stdout",
          "text": [
            "Collecting utils\n",
            "  Downloading utils-1.0.1-py2.py3-none-any.whl (21 kB)\n",
            "Installing collected packages: utils\n",
            "Successfully installed utils-1.0.1\n"
          ]
        }
      ]
    }
  ]
}